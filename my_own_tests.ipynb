{
 "cells": [
  {
   "cell_type": "code",
   "execution_count": 8,
   "id": "a6b13d0d",
   "metadata": {},
   "outputs": [
    {
     "name": "stdout",
     "output_type": "stream",
     "text": [
      "          id first_name last_name                       email  \\\n",
      "0  644557903      Monet  Santiago  macroprism1987@outlook.com   \n",
      "1  780786739      Thora    Conrad         alist1924@yahoo.com   \n",
      "2  222908099   Jermaine   Kaufman             chmotra3@live.c   \n",
      "3  233593354     Edmund      Hunt         prune1819@yahoo.com   \n",
      "4  991555588     Ismael     Berry         batch1969@yahoo.com   \n",
      "\n",
      "                  timestamp   age  gender   q1   q2   q3    q4   q5  \n",
      "0 2021-07-21 07:26:07+00:00   NaN    Male  7.9  3.6  1.0   9.2  1.3  \n",
      "1 2022-08-03 11:31:58+00:00  63.0    Male  NaN  8.4  0.1  10.0  2.6  \n",
      "2 2007-10-03 18:41:06+00:00  37.0  Female  9.3  7.9  5.4   7.8  5.5  \n",
      "3 2002-10-12 08:10:04+00:00  30.0   Other  8.7  8.5  NaN   5.0  0.8  \n",
      "4 2030-03-30 12:55:47+00:00  23.0  Female  9.7  7.3  6.5   4.7  5.9  \n"
     ]
    },
    {
     "data": {
      "image/png": "[encoded data removed]",
      "text/plain": [
       "<Figure size 800x500 with 1 Axes>"
      ]
     },
     "metadata": {},
     "output_type": "display_data"
    },
    {
     "name": "stdout",
     "output_type": "stream",
     "text": [
      "['macroprism1987@outlook.com', 'alist1924@yahoo.com', 'chmotra3@live.c', 'prune1819@yahoo.com', 'batch1969@yahoo.com', 'earlier1943@live.com', 'welcome1819@live.com', 'sines1828@outlook.com', 'crtie37c', 'humanitarianism1810@yandex.com', 'kapp1842@live.com', 'donal1881@yahoo.com', 'repuledndex.c', 'picoline1893@outlook.com', 'lashorn1849@yandex.com', 'decubitus1921@live.com', 'carburator1904@yandex.com', 'urinaries1918@outlook.com', 'prefavorably1867@outlook.com', 'maidhoods2029@yandex.com', 'bellboy1896@outlook.com', 'alien1889@gmail.com', 'breathless1814@live.com', 'gripy1840@outlook.com', 'apartness1957@live.com', 'neutrologistic1838@gmail.com', 'acceptable1879@yandex.com', 'aggregations1977@yandex.com', 'agosto1883@yandex.com', 'uppercutted1855@yahoo.com', 'pueleneyandex.c', 'metalsmith2054@gmail.com', 'dupree1882@yandex.com', 'unmentionability1827@live.com', 'unexpensive2046@yandex.com', 'chist19ook.c', 'dazing1913@live.com', 'continuingly1862@live.com', 'palaearctic1902@gmail.com', 'scrod1911@live.com', 'temporooccipital2031@outlook.com', 'sqrti18o.c', 'horse1844@live.com', 'incisors1997@yahoo.com', 'engineman2000@yahoo.com', 'consolato1984@live.com', 'palaeocrinoidea1931@yandex.com', 'bookworm1972@outlook.com', 'anmar20ook.c', 'wormer2018@gmail.com', 'scandic1875@live.com', 'inthralled1932@live.com', 'bolometric1952@yahoo.com', 'abrar2067@yahoo.com', 'prohibitionary1996@outlook.com', 'disilane1929@gmail.com', 'campbell1862@yahoo.com', 'pinchback2051@live.com', 'flamingo2006@outlook.com', 'swabble1996@yandex.com', 'photogenous2049@yandex.com', 'cyhy21@.c', 'classifier2006@live.com', 'unappeasedness1987@yahoo.com', 'drumline2044@live.com', 'algonquians1899@yahoo.com', 'unboldly1879@yandex.com', 'robin2015@outlook.com', 'atomizers1908@yahoo.com', 'decafid1830@outlook.com', 'scintillator1835@gmail.com', 'peacemaker1802@yahoo.com', 'abdon18l.c', 'ultrasonic1838@live.com', 'cointer1805@gmail.com', 'excoriation1874@live.com', 'ramentiferous1876@live.com', 'rumen92c', 'coeval1931@yandex.com', 'daon13@.c', 'aggregations1946@live.com', 'bloodlessly1806@live.com', 'teimo19ex.c', 'bajau1926@gmail.com', 'thunderstorm1902@yandex.com', 'coal10@c', 'antifowl1847@yandex.com', 'dawne1859@live.com', 'micronuclear1980@yandex.com', 'cablet1931@yandex.com', 'insect1938@yandex.com', 'ateles1847@yandex.com', 'noarng1dex.c', 'axopha1il.c', 'compose1966@gmail.com', 'protococcales2043@yahoo.com', 'mate2063@outlook.com', 'bloodhound1900@gmail.com', 'adoptee1968@yahoo.com', 'belay1852@yahoo.com']\n"
     ]
    }
   ],
   "source": [
    "from hw5 import *\n",
    "import pandas as pd\n",
    "import pathlib\n",
    "import numpy as np\n",
    "from typing import Union, Tuple\n",
    "\n",
    "\n",
    "qa = QuestionnaireAnalysis(\"C:/Users/GaiaNegev/Projects/hw5-2025/data.json\")\n",
    "qa.read_data()\n",
    "\n",
    "\n",
    "qa.show_age_distrib()\n",
    "\n",
    "qa.remove_rows_without_mail()\n",
    "\n",
    "unique_email = qa.print_all_emails()\n",
    "print(unique_email)"
   ]
  },
  {
   "cell_type": "code",
   "execution_count": 11,
   "id": "e953b75a",
   "metadata": {},
   "outputs": [],
   "source": [
    "maximal_nans_per_sub = 1\n",
    "\n",
    "df = qa.remove_rows_without_mail()  # work on a copy to avoid modifying original\n",
    "\n",
    "# Count NaNs per row (per participant)\n",
    "n_nans = df.isna().sum(axis=1)\n",
    "\n",
    "# Select only question columns (assumes they start with 'q')\n",
    "question_cols = [col for col in df.columns if col.startswith(\"q\")]\n",
    "\n",
    "# Work only on question columns\n",
    "n_nans = df[question_cols].isna().sum(axis=1)\n",
    "mean_scores = df[question_cols].mean(axis=1, skipna=True)\n",
    "\n",
    "# Calculate row-wise mean ignoring NaNs\n",
    "# Calculate row-wise mean only on question columns\n",
    "mean_scores = df[question_cols].mean(axis=1, skipna=True)\n",
    "\n",
    "# If number of NaNs > maximal_nans_per_sub, assign NaN, else floor the mean\n",
    "score = mean_scores.where(n_nans <= maximal_nans_per_sub, other=np.nan)\n",
    "\n",
    "# Floor the scores (only non-NaN values)\n",
    "score = score.apply(lambda x: np.floor(x) if pd.notna(x) else x)\n",
    "\n",
    "# Create the score series with same index as df, fill NaNs for invalid rows\n",
    "full_score = pd.Series(data=np.nan, index=df.index, dtype=\"float\")\n",
    "full_score.loc[score.index] = score\n",
    "\n",
    "# Convert to UInt8, allowing NaNs (nullable unsigned int)\n",
    "full_score = full_score.astype(\"UInt8\")\n",
    "\n",
    "# Add \"score\" column\n",
    "df[\"score\"] = full_score"
   ]
  },
  {
   "cell_type": "code",
   "execution_count": 12,
   "id": "8936b726",
   "metadata": {},
   "outputs": [
    {
     "name": "stdout",
     "output_type": "stream",
     "text": [
      "Keys in npz file: ['hist', 'edges']\n",
      "Shape of array: (10,)\n",
      "Array dtype: float64\n",
      "Array contents (first 10 elements): [ 0.  5. 13. 25.  3. 17. 10.  0.  0.  0.]\n"
     ]
    }
   ],
   "source": [
    "import numpy as np\n",
    "import matplotlib.pyplot as plt\n",
    "\n",
    "data = np.load(r\"C:\\Users\\GaiaNegev\\Projects\\hw5-2025\\tests_data\\q1_hist.npz\")\n",
    "\n",
    "print(\"Keys in npz file:\", data.files)\n",
    "\n",
    "# Let's say the key is 'arr_0' or something else\n",
    "key = data.files[0]\n",
    "img_array = data[key]\n",
    "\n",
    "print(\"Shape of array:\", img_array.shape)\n",
    "print(\"Array dtype:\", img_array.dtype)\n",
    "print(\"Array contents (first 10 elements):\", img_array[:10])\n"
   ]
  }
 ],
 "metadata": {
  "kernelspec": {
   "display_name": ".venv",
   "language": "python",
   "name": "python3"
  },
  "language_info": {
   "codemirror_mode": {
    "name": "ipython",
    "version": 3
   },
   "file_extension": ".py",
   "mimetype": "text/x-python",
   "name": "python",
   "nbconvert_exporter": "python",
   "pygments_lexer": "ipython3",
   "version": "3.13.2"
  }
 },
 "nbformat": 4,
 "nbformat_minor": 5
}
